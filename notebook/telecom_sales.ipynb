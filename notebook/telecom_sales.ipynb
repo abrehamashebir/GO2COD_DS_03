{
 "cells": [
  {
   "cell_type": "code",
   "execution_count": 35,
   "metadata": {},
   "outputs": [],
   "source": [
    "import pandas as pd\n",
    "import seaborn as sns\n",
    "import matplotlib.pyplot as plt\n"
   ]
  },
  {
   "cell_type": "code",
   "execution_count": 4,
   "metadata": {},
   "outputs": [],
   "source": [
    "df = pd.read_csv('../dataset/commerce_sales_data.csv')"
   ]
  },
  {
   "cell_type": "code",
   "execution_count": 8,
   "metadata": {},
   "outputs": [
    {
     "data": {
      "text/html": [
       "<div>\n",
       "<style scoped>\n",
       "    .dataframe tbody tr th:only-of-type {\n",
       "        vertical-align: middle;\n",
       "    }\n",
       "\n",
       "    .dataframe tbody tr th {\n",
       "        vertical-align: top;\n",
       "    }\n",
       "\n",
       "    .dataframe thead th {\n",
       "        text-align: right;\n",
       "    }\n",
       "</style>\n",
       "<table border=\"1\" class=\"dataframe\">\n",
       "  <thead>\n",
       "    <tr style=\"text-align: right;\">\n",
       "      <th></th>\n",
       "      <th>Customer ID</th>\n",
       "      <th>Gender</th>\n",
       "      <th>Region</th>\n",
       "      <th>Age</th>\n",
       "      <th>Product Name</th>\n",
       "      <th>Category</th>\n",
       "      <th>Unit Price</th>\n",
       "      <th>Quantity</th>\n",
       "      <th>Total Price</th>\n",
       "      <th>Shipping Fee</th>\n",
       "      <th>Shipping Status</th>\n",
       "      <th>Order Date</th>\n",
       "    </tr>\n",
       "  </thead>\n",
       "  <tbody>\n",
       "    <tr>\n",
       "      <th>0</th>\n",
       "      <td>CUST0268</td>\n",
       "      <td>Male</td>\n",
       "      <td>North</td>\n",
       "      <td>NaN</td>\n",
       "      <td>Monitor</td>\n",
       "      <td>Electronics</td>\n",
       "      <td>300.0</td>\n",
       "      <td>5</td>\n",
       "      <td>1500</td>\n",
       "      <td>13.31</td>\n",
       "      <td>Returned</td>\n",
       "      <td>2023-12-08</td>\n",
       "    </tr>\n",
       "    <tr>\n",
       "      <th>1</th>\n",
       "      <td>CUST0046</td>\n",
       "      <td>Male</td>\n",
       "      <td>West</td>\n",
       "      <td>22.0</td>\n",
       "      <td>Headphones</td>\n",
       "      <td>Accessories</td>\n",
       "      <td>100.0</td>\n",
       "      <td>2</td>\n",
       "      <td>200</td>\n",
       "      <td>6.93</td>\n",
       "      <td>In Transit</td>\n",
       "      <td>2023-04-09</td>\n",
       "    </tr>\n",
       "    <tr>\n",
       "      <th>2</th>\n",
       "      <td>CUST0169</td>\n",
       "      <td>Female</td>\n",
       "      <td>South</td>\n",
       "      <td>54.0</td>\n",
       "      <td>Monitor</td>\n",
       "      <td>Electronics</td>\n",
       "      <td>300.0</td>\n",
       "      <td>1</td>\n",
       "      <td>300</td>\n",
       "      <td>11.31</td>\n",
       "      <td>Returned</td>\n",
       "      <td>2023-08-28</td>\n",
       "    </tr>\n",
       "    <tr>\n",
       "      <th>3</th>\n",
       "      <td>CUST0002</td>\n",
       "      <td>Male</td>\n",
       "      <td>North</td>\n",
       "      <td>23.0</td>\n",
       "      <td>Headphones</td>\n",
       "      <td>Accessories</td>\n",
       "      <td>100.0</td>\n",
       "      <td>5</td>\n",
       "      <td>500</td>\n",
       "      <td>12.22</td>\n",
       "      <td>Delivered</td>\n",
       "      <td>2023-01-18</td>\n",
       "    </tr>\n",
       "    <tr>\n",
       "      <th>4</th>\n",
       "      <td>CUST0173</td>\n",
       "      <td>Female</td>\n",
       "      <td>South</td>\n",
       "      <td>NaN</td>\n",
       "      <td>Laptop</td>\n",
       "      <td>Electronics</td>\n",
       "      <td>1500.0</td>\n",
       "      <td>3</td>\n",
       "      <td>4500</td>\n",
       "      <td>5.40</td>\n",
       "      <td>Delivered</td>\n",
       "      <td>2023-01-19</td>\n",
       "    </tr>\n",
       "  </tbody>\n",
       "</table>\n",
       "</div>"
      ],
      "text/plain": [
       "  Customer ID  Gender Region   Age Product Name     Category  Unit Price  \\\n",
       "0    CUST0268    Male  North   NaN      Monitor  Electronics       300.0   \n",
       "1    CUST0046    Male   West  22.0   Headphones  Accessories       100.0   \n",
       "2    CUST0169  Female  South  54.0      Monitor  Electronics       300.0   \n",
       "3    CUST0002    Male  North  23.0   Headphones  Accessories       100.0   \n",
       "4    CUST0173  Female  South   NaN       Laptop  Electronics      1500.0   \n",
       "\n",
       "   Quantity  Total Price  Shipping Fee Shipping Status  Order Date  \n",
       "0         5         1500         13.31        Returned  2023-12-08  \n",
       "1         2          200          6.93      In Transit  2023-04-09  \n",
       "2         1          300         11.31        Returned  2023-08-28  \n",
       "3         5          500         12.22       Delivered  2023-01-18  \n",
       "4         3         4500          5.40       Delivered  2023-01-19  "
      ]
     },
     "execution_count": 8,
     "metadata": {},
     "output_type": "execute_result"
    }
   ],
   "source": [
    "df.head()"
   ]
  },
  {
   "cell_type": "code",
   "execution_count": 46,
   "metadata": {},
   "outputs": [
    {
     "name": "stdout",
     "output_type": "stream",
     "text": [
      "<class 'pandas.core.frame.DataFrame'>\n",
      "Index: 901 entries, 0 to 998\n",
      "Data columns (total 12 columns):\n",
      " #   Column           Non-Null Count  Dtype         \n",
      "---  ------           --------------  -----         \n",
      " 0   Customer ID      901 non-null    object        \n",
      " 1   Gender           901 non-null    object        \n",
      " 2   Region           901 non-null    object        \n",
      " 3   Age              901 non-null    float64       \n",
      " 4   Product Name     901 non-null    object        \n",
      " 5   Category         901 non-null    object        \n",
      " 6   Unit Price       901 non-null    float64       \n",
      " 7   Quantity         901 non-null    int64         \n",
      " 8   Total Price      901 non-null    int64         \n",
      " 9   Shipping Fee     901 non-null    float64       \n",
      " 10  Shipping Status  901 non-null    object        \n",
      " 11  Order Date       901 non-null    datetime64[ns]\n",
      "dtypes: datetime64[ns](1), float64(3), int64(2), object(6)\n",
      "memory usage: 91.5+ KB\n"
     ]
    }
   ],
   "source": [
    "df.info()"
   ]
  },
  {
   "cell_type": "code",
   "execution_count": 10,
   "metadata": {},
   "outputs": [
    {
     "data": {
      "text/html": [
       "<div>\n",
       "<style scoped>\n",
       "    .dataframe tbody tr th:only-of-type {\n",
       "        vertical-align: middle;\n",
       "    }\n",
       "\n",
       "    .dataframe tbody tr th {\n",
       "        vertical-align: top;\n",
       "    }\n",
       "\n",
       "    .dataframe thead th {\n",
       "        text-align: right;\n",
       "    }\n",
       "</style>\n",
       "<table border=\"1\" class=\"dataframe\">\n",
       "  <thead>\n",
       "    <tr style=\"text-align: right;\">\n",
       "      <th></th>\n",
       "      <th>Age</th>\n",
       "      <th>Unit Price</th>\n",
       "      <th>Quantity</th>\n",
       "      <th>Total Price</th>\n",
       "      <th>Shipping Fee</th>\n",
       "    </tr>\n",
       "  </thead>\n",
       "  <tbody>\n",
       "    <tr>\n",
       "      <th>count</th>\n",
       "      <td>900.000000</td>\n",
       "      <td>1000.000000</td>\n",
       "      <td>1000.000000</td>\n",
       "      <td>1000.000000</td>\n",
       "      <td>1000.000000</td>\n",
       "    </tr>\n",
       "    <tr>\n",
       "      <th>mean</th>\n",
       "      <td>46.695556</td>\n",
       "      <td>457.703777</td>\n",
       "      <td>3.008000</td>\n",
       "      <td>1346.600000</td>\n",
       "      <td>12.416390</td>\n",
       "    </tr>\n",
       "    <tr>\n",
       "      <th>std</th>\n",
       "      <td>15.011400</td>\n",
       "      <td>537.231434</td>\n",
       "      <td>1.404246</td>\n",
       "      <td>1834.037877</td>\n",
       "      <td>4.412185</td>\n",
       "    </tr>\n",
       "    <tr>\n",
       "      <th>min</th>\n",
       "      <td>18.000000</td>\n",
       "      <td>30.000000</td>\n",
       "      <td>1.000000</td>\n",
       "      <td>30.000000</td>\n",
       "      <td>5.000000</td>\n",
       "    </tr>\n",
       "    <tr>\n",
       "      <th>25%</th>\n",
       "      <td>35.000000</td>\n",
       "      <td>50.000000</td>\n",
       "      <td>2.000000</td>\n",
       "      <td>200.000000</td>\n",
       "      <td>8.560000</td>\n",
       "    </tr>\n",
       "    <tr>\n",
       "      <th>50%</th>\n",
       "      <td>49.000000</td>\n",
       "      <td>200.000000</td>\n",
       "      <td>3.000000</td>\n",
       "      <td>600.000000</td>\n",
       "      <td>12.315000</td>\n",
       "    </tr>\n",
       "    <tr>\n",
       "      <th>75%</th>\n",
       "      <td>59.000000</td>\n",
       "      <td>800.000000</td>\n",
       "      <td>4.000000</td>\n",
       "      <td>1500.000000</td>\n",
       "      <td>16.075000</td>\n",
       "    </tr>\n",
       "    <tr>\n",
       "      <th>max</th>\n",
       "      <td>69.000000</td>\n",
       "      <td>3109.560612</td>\n",
       "      <td>5.000000</td>\n",
       "      <td>7500.000000</td>\n",
       "      <td>19.980000</td>\n",
       "    </tr>\n",
       "  </tbody>\n",
       "</table>\n",
       "</div>"
      ],
      "text/plain": [
       "              Age   Unit Price     Quantity  Total Price  Shipping Fee\n",
       "count  900.000000  1000.000000  1000.000000  1000.000000   1000.000000\n",
       "mean    46.695556   457.703777     3.008000  1346.600000     12.416390\n",
       "std     15.011400   537.231434     1.404246  1834.037877      4.412185\n",
       "min     18.000000    30.000000     1.000000    30.000000      5.000000\n",
       "25%     35.000000    50.000000     2.000000   200.000000      8.560000\n",
       "50%     49.000000   200.000000     3.000000   600.000000     12.315000\n",
       "75%     59.000000   800.000000     4.000000  1500.000000     16.075000\n",
       "max     69.000000  3109.560612     5.000000  7500.000000     19.980000"
      ]
     },
     "execution_count": 10,
     "metadata": {},
     "output_type": "execute_result"
    }
   ],
   "source": [
    "df.describe()"
   ]
  },
  {
   "cell_type": "code",
   "execution_count": 20,
   "metadata": {},
   "outputs": [
    {
     "data": {
      "text/plain": [
       "Customer ID        0\n",
       "Gender             0\n",
       "Region             0\n",
       "Age                0\n",
       "Product Name       0\n",
       "Category           0\n",
       "Unit Price         0\n",
       "Quantity           0\n",
       "Total Price        0\n",
       "Shipping Fee       0\n",
       "Shipping Status    0\n",
       "Order Date         0\n",
       "dtype: int64"
      ]
     },
     "execution_count": 20,
     "metadata": {},
     "output_type": "execute_result"
    }
   ],
   "source": [
    "df.isnull().sum()"
   ]
  },
  {
   "cell_type": "code",
   "execution_count": 14,
   "metadata": {},
   "outputs": [
    {
     "name": "stderr",
     "output_type": "stream",
     "text": [
      "C:\\Users\\Mom\\AppData\\Local\\Temp\\ipykernel_16148\\1698716155.py:1: FutureWarning: A value is trying to be set on a copy of a DataFrame or Series through chained assignment using an inplace method.\n",
      "The behavior will change in pandas 3.0. This inplace method will never work because the intermediate object on which we are setting values always behaves as a copy.\n",
      "\n",
      "For example, when doing 'df[col].method(value, inplace=True)', try using 'df.method({col: value}, inplace=True)' or df[col] = df[col].method(value) instead, to perform the operation inplace on the original object.\n",
      "\n",
      "\n",
      "  df['Age'].fillna(df['Age'].mean(), inplace=True)\n"
     ]
    }
   ],
   "source": [
    "df['Age'].fillna(df['Age'].mean(), inplace=True)"
   ]
  },
  {
   "cell_type": "code",
   "execution_count": 18,
   "metadata": {},
   "outputs": [],
   "source": [
    "df.dropna(inplace=True)"
   ]
  },
  {
   "cell_type": "code",
   "execution_count": 19,
   "metadata": {},
   "outputs": [
    {
     "data": {
      "text/plain": [
       "(901, 12)"
      ]
     },
     "execution_count": 19,
     "metadata": {},
     "output_type": "execute_result"
    }
   ],
   "source": [
    "df.shape"
   ]
  },
  {
   "cell_type": "code",
   "execution_count": 21,
   "metadata": {},
   "outputs": [
    {
     "data": {
      "text/html": [
       "<div>\n",
       "<style scoped>\n",
       "    .dataframe tbody tr th:only-of-type {\n",
       "        vertical-align: middle;\n",
       "    }\n",
       "\n",
       "    .dataframe tbody tr th {\n",
       "        vertical-align: top;\n",
       "    }\n",
       "\n",
       "    .dataframe thead th {\n",
       "        text-align: right;\n",
       "    }\n",
       "</style>\n",
       "<table border=\"1\" class=\"dataframe\">\n",
       "  <thead>\n",
       "    <tr style=\"text-align: right;\">\n",
       "      <th></th>\n",
       "      <th>Customer ID</th>\n",
       "      <th>Gender</th>\n",
       "      <th>Region</th>\n",
       "      <th>Age</th>\n",
       "      <th>Product Name</th>\n",
       "      <th>Category</th>\n",
       "      <th>Unit Price</th>\n",
       "      <th>Quantity</th>\n",
       "      <th>Total Price</th>\n",
       "      <th>Shipping Fee</th>\n",
       "      <th>Shipping Status</th>\n",
       "      <th>Order Date</th>\n",
       "    </tr>\n",
       "  </thead>\n",
       "  <tbody>\n",
       "    <tr>\n",
       "      <th>0</th>\n",
       "      <td>CUST0268</td>\n",
       "      <td>Male</td>\n",
       "      <td>North</td>\n",
       "      <td>46.695556</td>\n",
       "      <td>Monitor</td>\n",
       "      <td>Electronics</td>\n",
       "      <td>300.0</td>\n",
       "      <td>5</td>\n",
       "      <td>1500</td>\n",
       "      <td>13.31</td>\n",
       "      <td>Returned</td>\n",
       "      <td>2023-12-08</td>\n",
       "    </tr>\n",
       "    <tr>\n",
       "      <th>1</th>\n",
       "      <td>CUST0046</td>\n",
       "      <td>Male</td>\n",
       "      <td>West</td>\n",
       "      <td>22.000000</td>\n",
       "      <td>Headphones</td>\n",
       "      <td>Accessories</td>\n",
       "      <td>100.0</td>\n",
       "      <td>2</td>\n",
       "      <td>200</td>\n",
       "      <td>6.93</td>\n",
       "      <td>In Transit</td>\n",
       "      <td>2023-04-09</td>\n",
       "    </tr>\n",
       "    <tr>\n",
       "      <th>2</th>\n",
       "      <td>CUST0169</td>\n",
       "      <td>Female</td>\n",
       "      <td>South</td>\n",
       "      <td>54.000000</td>\n",
       "      <td>Monitor</td>\n",
       "      <td>Electronics</td>\n",
       "      <td>300.0</td>\n",
       "      <td>1</td>\n",
       "      <td>300</td>\n",
       "      <td>11.31</td>\n",
       "      <td>Returned</td>\n",
       "      <td>2023-08-28</td>\n",
       "    </tr>\n",
       "    <tr>\n",
       "      <th>3</th>\n",
       "      <td>CUST0002</td>\n",
       "      <td>Male</td>\n",
       "      <td>North</td>\n",
       "      <td>23.000000</td>\n",
       "      <td>Headphones</td>\n",
       "      <td>Accessories</td>\n",
       "      <td>100.0</td>\n",
       "      <td>5</td>\n",
       "      <td>500</td>\n",
       "      <td>12.22</td>\n",
       "      <td>Delivered</td>\n",
       "      <td>2023-01-18</td>\n",
       "    </tr>\n",
       "    <tr>\n",
       "      <th>4</th>\n",
       "      <td>CUST0173</td>\n",
       "      <td>Female</td>\n",
       "      <td>South</td>\n",
       "      <td>46.695556</td>\n",
       "      <td>Laptop</td>\n",
       "      <td>Electronics</td>\n",
       "      <td>1500.0</td>\n",
       "      <td>3</td>\n",
       "      <td>4500</td>\n",
       "      <td>5.40</td>\n",
       "      <td>Delivered</td>\n",
       "      <td>2023-01-19</td>\n",
       "    </tr>\n",
       "  </tbody>\n",
       "</table>\n",
       "</div>"
      ],
      "text/plain": [
       "  Customer ID  Gender Region        Age Product Name     Category  Unit Price  \\\n",
       "0    CUST0268    Male  North  46.695556      Monitor  Electronics       300.0   \n",
       "1    CUST0046    Male   West  22.000000   Headphones  Accessories       100.0   \n",
       "2    CUST0169  Female  South  54.000000      Monitor  Electronics       300.0   \n",
       "3    CUST0002    Male  North  23.000000   Headphones  Accessories       100.0   \n",
       "4    CUST0173  Female  South  46.695556       Laptop  Electronics      1500.0   \n",
       "\n",
       "   Quantity  Total Price  Shipping Fee Shipping Status  Order Date  \n",
       "0         5         1500         13.31        Returned  2023-12-08  \n",
       "1         2          200          6.93      In Transit  2023-04-09  \n",
       "2         1          300         11.31        Returned  2023-08-28  \n",
       "3         5          500         12.22       Delivered  2023-01-18  \n",
       "4         3         4500          5.40       Delivered  2023-01-19  "
      ]
     },
     "execution_count": 21,
     "metadata": {},
     "output_type": "execute_result"
    }
   ],
   "source": [
    "df.head()"
   ]
  },
  {
   "cell_type": "code",
   "execution_count": 47,
   "metadata": {},
   "outputs": [
    {
     "data": {
      "text/html": [
       "<div>\n",
       "<style scoped>\n",
       "    .dataframe tbody tr th:only-of-type {\n",
       "        vertical-align: middle;\n",
       "    }\n",
       "\n",
       "    .dataframe tbody tr th {\n",
       "        vertical-align: top;\n",
       "    }\n",
       "\n",
       "    .dataframe thead th {\n",
       "        text-align: right;\n",
       "    }\n",
       "</style>\n",
       "<table border=\"1\" class=\"dataframe\">\n",
       "  <thead>\n",
       "    <tr style=\"text-align: right;\">\n",
       "      <th></th>\n",
       "      <th>Customer ID</th>\n",
       "      <th>Gender</th>\n",
       "      <th>Region</th>\n",
       "      <th>Age</th>\n",
       "      <th>Product Name</th>\n",
       "      <th>Category</th>\n",
       "      <th>Unit Price</th>\n",
       "      <th>Quantity</th>\n",
       "      <th>Total Price</th>\n",
       "      <th>Shipping Fee</th>\n",
       "      <th>Shipping Status</th>\n",
       "      <th>Order Date</th>\n",
       "    </tr>\n",
       "  </thead>\n",
       "  <tbody>\n",
       "    <tr>\n",
       "      <th>994</th>\n",
       "      <td>CUST0079</td>\n",
       "      <td>Male</td>\n",
       "      <td>West</td>\n",
       "      <td>26.000000</td>\n",
       "      <td>Smartwatch</td>\n",
       "      <td>Wearables</td>\n",
       "      <td>200.0</td>\n",
       "      <td>2</td>\n",
       "      <td>400</td>\n",
       "      <td>7.14</td>\n",
       "      <td>Returned</td>\n",
       "      <td>2023-01-04</td>\n",
       "    </tr>\n",
       "    <tr>\n",
       "      <th>995</th>\n",
       "      <td>CUST0201</td>\n",
       "      <td>Female</td>\n",
       "      <td>South</td>\n",
       "      <td>49.000000</td>\n",
       "      <td>Headphones</td>\n",
       "      <td>Accessories</td>\n",
       "      <td>100.0</td>\n",
       "      <td>1</td>\n",
       "      <td>100</td>\n",
       "      <td>17.21</td>\n",
       "      <td>In Transit</td>\n",
       "      <td>2023-01-05</td>\n",
       "    </tr>\n",
       "    <tr>\n",
       "      <th>996</th>\n",
       "      <td>CUST0133</td>\n",
       "      <td>Male</td>\n",
       "      <td>East</td>\n",
       "      <td>47.000000</td>\n",
       "      <td>Laptop</td>\n",
       "      <td>Electronics</td>\n",
       "      <td>1500.0</td>\n",
       "      <td>1</td>\n",
       "      <td>1500</td>\n",
       "      <td>19.19</td>\n",
       "      <td>Delivered</td>\n",
       "      <td>2023-04-01</td>\n",
       "    </tr>\n",
       "    <tr>\n",
       "      <th>997</th>\n",
       "      <td>CUST0055</td>\n",
       "      <td>Female</td>\n",
       "      <td>North</td>\n",
       "      <td>46.695556</td>\n",
       "      <td>Mouse</td>\n",
       "      <td>Accessories</td>\n",
       "      <td>30.0</td>\n",
       "      <td>5</td>\n",
       "      <td>150</td>\n",
       "      <td>19.35</td>\n",
       "      <td>Delivered</td>\n",
       "      <td>2023-10-20</td>\n",
       "    </tr>\n",
       "    <tr>\n",
       "      <th>998</th>\n",
       "      <td>CUST0023</td>\n",
       "      <td>Female</td>\n",
       "      <td>South</td>\n",
       "      <td>29.000000</td>\n",
       "      <td>Laptop</td>\n",
       "      <td>Electronics</td>\n",
       "      <td>1500.0</td>\n",
       "      <td>5</td>\n",
       "      <td>7500</td>\n",
       "      <td>10.36</td>\n",
       "      <td>Returned</td>\n",
       "      <td>2023-01-07</td>\n",
       "    </tr>\n",
       "  </tbody>\n",
       "</table>\n",
       "</div>"
      ],
      "text/plain": [
       "    Customer ID  Gender Region        Age Product Name     Category  \\\n",
       "994    CUST0079    Male   West  26.000000   Smartwatch    Wearables   \n",
       "995    CUST0201  Female  South  49.000000   Headphones  Accessories   \n",
       "996    CUST0133    Male   East  47.000000       Laptop  Electronics   \n",
       "997    CUST0055  Female  North  46.695556        Mouse  Accessories   \n",
       "998    CUST0023  Female  South  29.000000       Laptop  Electronics   \n",
       "\n",
       "     Unit Price  Quantity  Total Price  Shipping Fee Shipping Status  \\\n",
       "994       200.0         2          400          7.14        Returned   \n",
       "995       100.0         1          100         17.21      In Transit   \n",
       "996      1500.0         1         1500         19.19       Delivered   \n",
       "997        30.0         5          150         19.35       Delivered   \n",
       "998      1500.0         5         7500         10.36        Returned   \n",
       "\n",
       "    Order Date  \n",
       "994 2023-01-04  \n",
       "995 2023-01-05  \n",
       "996 2023-04-01  \n",
       "997 2023-10-20  \n",
       "998 2023-01-07  "
      ]
     },
     "execution_count": 47,
     "metadata": {},
     "output_type": "execute_result"
    }
   ],
   "source": [
    "df.tail()"
   ]
  },
  {
   "cell_type": "code",
   "execution_count": 45,
   "metadata": {},
   "outputs": [],
   "source": [
    "df['Order Date'] = pd.to_datetime(df['Order Date'])"
   ]
  },
  {
   "cell_type": "code",
   "execution_count": null,
   "metadata": {},
   "outputs": [],
   "source": []
  },
  {
   "cell_type": "markdown",
   "metadata": {},
   "source": [
    "#### Univariate Analysis"
   ]
  },
  {
   "cell_type": "code",
   "execution_count": 31,
   "metadata": {},
   "outputs": [
    {
     "name": "stdout",
     "output_type": "stream",
     "text": [
      "Region\n",
      "West     238\n",
      "South    233\n",
      "East     217\n",
      "North    213\n",
      "Name: count, dtype: int64\n",
      "Category\n",
      "Electronics    429\n",
      "Accessories    362\n",
      "Wearables      110\n",
      "Name: count, dtype: int64\n",
      "Gender\n",
      "Male      473\n",
      "Female    428\n",
      "Name: count, dtype: int64\n"
     ]
    }
   ],
   "source": [
    "region = df.Region.value_counts()\n",
    "category = df.Category.value_counts()\n",
    "gender = df['Gender'].value_counts()\n",
    "\n",
    "print(region)\n",
    "print(category)\n",
    "print(gender)\n"
   ]
  },
  {
   "cell_type": "code",
   "execution_count": 34,
   "metadata": {},
   "outputs": [
    {
     "data": {
      "text/plain": [
       "<Axes: title={'center': 'Sales Distribution By Region'}, xlabel='Region', ylabel='Frequency'>"
      ]
     },
     "execution_count": 34,
     "metadata": {},
     "output_type": "execute_result"
    },
    {
     "data": {
      "image/png": "[encoded data removed]",
      "text/plain": [
       "<Figure size 640x480 with 1 Axes>"
      ]
     },
     "metadata": {},
     "output_type": "display_data"
    }
   ],
   "source": [
    "region.plot(kind='bar', xlabel='Region', ylabel='Frequency', title='Sales Distribution By Region' )"
   ]
  },
  {
   "cell_type": "code",
   "execution_count": 40,
   "metadata": {},
   "outputs": [
    {
     "data": {
      "image/png": "[encoded data removed]",
      "text/plain": [
       "<Figure size 640x480 with 1 Axes>"
      ]
     },
     "metadata": {},
     "output_type": "display_data"
    }
   ],
   "source": [
    "sns.barplot(x='Region', hue='Category', data = df)\n",
    "# Adding labels and title\n",
    "plt.xlabel('Region')\n",
    "plt.ylabel('Frequency')\n",
    "plt.title('Sales Distribution By Region')\n",
    "plt.show()"
   ]
  },
  {
   "cell_type": "code",
   "execution_count": 29,
   "metadata": {},
   "outputs": [
    {
     "data": {
      "text/plain": [
       "<Axes: title={'center': 'Sales Distribution By Category'}, xlabel='Iteem Category', ylabel='Frequency'>"
      ]
     },
     "execution_count": 29,
     "metadata": {},
     "output_type": "execute_result"
    },
    {
     "data": {
      "image/png": "[encoded data removed]",
      "text/plain": [
       "<Figure size 640x480 with 1 Axes>"
      ]
     },
     "metadata": {},
     "output_type": "display_data"
    }
   ],
   "source": [
    "category.plot(kind='bar', xlabel='Iteem Category', ylabel='Frequency', title='Sales Distribution By Category' )"
   ]
  },
  {
   "cell_type": "code",
   "execution_count": 32,
   "metadata": {},
   "outputs": [
    {
     "data": {
      "text/plain": [
       "<Axes: title={'center': 'Sales Distribution By Gender'}, xlabel='Gender', ylabel='Frequency'>"
      ]
     },
     "execution_count": 32,
     "metadata": {},
     "output_type": "execute_result"
    },
    {
     "data": {
      "image/png": "[encoded data removed]",
      "text/plain": [
       "<Figure size 640x480 with 1 Axes>"
      ]
     },
     "metadata": {},
     "output_type": "display_data"
    }
   ],
   "source": [
    "gender.plot(kind='bar', xlabel='Gender', ylabel='Frequency', title='Sales Distribution By Gender' )"
   ]
  }
 ],
 "metadata": {
  "kernelspec": {
   "display_name": "venv",
   "language": "python",
   "name": "python3"
  },
  "language_info": {
   "codemirror_mode": {
    "name": "ipython",
    "version": 3
   },
   "file_extension": ".py",
   "mimetype": "text/x-python",
   "name": "python",
   "nbconvert_exporter": "python",
   "pygments_lexer": "ipython3",
   "version": "3.13.0"
  }
 },
 "nbformat": 4,
 "nbformat_minor": 2
}
